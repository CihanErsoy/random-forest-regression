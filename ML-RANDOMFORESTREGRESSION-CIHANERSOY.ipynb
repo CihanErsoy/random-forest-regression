{
 "cells": [
  {
   "cell_type": "code",
   "execution_count": 1,
   "metadata": {},
   "outputs": [],
   "source": [
    "import pandas as pd\n",
    "import numpy as np\n",
    "from sklearn.ensemble import RandomForestRegressor\n",
    "from sklearn.model_selection import train_test_split, RandomizedSearchCV\n",
    "from sklearn.metrics import mean_squared_error, accuracy_score\n",
    "from sklearn.preprocessing import LabelEncoder\n",
    "from scipy.stats import randint "
   ]
  },
  {
   "cell_type": "markdown",
   "metadata": {},
   "source": [
    "Necessary libraries are downloaded. Pandas and numpy are standard data science libraries. Sklearn is for prediction and hyperparameter tuning. Scipy library is used to generate random numbers for RandomizedSearchCV."
   ]
  },
  {
   "cell_type": "code",
   "execution_count": 2,
   "metadata": {},
   "outputs": [],
   "source": [
    "df = pd.read_csv('DelayedFlights.csv')"
   ]
  },
  {
   "cell_type": "markdown",
   "metadata": {},
   "source": [
    "DelayedFlights.csv dataset is brought into a pandas dataframe."
   ]
  },
  {
   "cell_type": "code",
   "execution_count": 3,
   "metadata": {},
   "outputs": [
    {
     "data": {
      "text/html": [
       "<div>\n",
       "<style scoped>\n",
       "    .dataframe tbody tr th:only-of-type {\n",
       "        vertical-align: middle;\n",
       "    }\n",
       "\n",
       "    .dataframe tbody tr th {\n",
       "        vertical-align: top;\n",
       "    }\n",
       "\n",
       "    .dataframe thead th {\n",
       "        text-align: right;\n",
       "    }\n",
       "</style>\n",
       "<table border=\"1\" class=\"dataframe\">\n",
       "  <thead>\n",
       "    <tr style=\"text-align: right;\">\n",
       "      <th></th>\n",
       "      <th>Unnamed: 0</th>\n",
       "      <th>Year</th>\n",
       "      <th>Month</th>\n",
       "      <th>DayofMonth</th>\n",
       "      <th>DayOfWeek</th>\n",
       "      <th>DepTime</th>\n",
       "      <th>CRSDepTime</th>\n",
       "      <th>ArrTime</th>\n",
       "      <th>CRSArrTime</th>\n",
       "      <th>FlightNum</th>\n",
       "      <th>...</th>\n",
       "      <th>Distance</th>\n",
       "      <th>TaxiIn</th>\n",
       "      <th>TaxiOut</th>\n",
       "      <th>Cancelled</th>\n",
       "      <th>Diverted</th>\n",
       "      <th>CarrierDelay</th>\n",
       "      <th>WeatherDelay</th>\n",
       "      <th>NASDelay</th>\n",
       "      <th>SecurityDelay</th>\n",
       "      <th>LateAircraftDelay</th>\n",
       "    </tr>\n",
       "  </thead>\n",
       "  <tbody>\n",
       "    <tr>\n",
       "      <td>count</td>\n",
       "      <td>1.936758e+06</td>\n",
       "      <td>1936758.0</td>\n",
       "      <td>1.936758e+06</td>\n",
       "      <td>1.936758e+06</td>\n",
       "      <td>1.936758e+06</td>\n",
       "      <td>1.936758e+06</td>\n",
       "      <td>1.936758e+06</td>\n",
       "      <td>1.929648e+06</td>\n",
       "      <td>1.936758e+06</td>\n",
       "      <td>1.936758e+06</td>\n",
       "      <td>...</td>\n",
       "      <td>1.936758e+06</td>\n",
       "      <td>1.929648e+06</td>\n",
       "      <td>1.936303e+06</td>\n",
       "      <td>1.936758e+06</td>\n",
       "      <td>1.936758e+06</td>\n",
       "      <td>1.247488e+06</td>\n",
       "      <td>1.247488e+06</td>\n",
       "      <td>1.247488e+06</td>\n",
       "      <td>1.247488e+06</td>\n",
       "      <td>1.247488e+06</td>\n",
       "    </tr>\n",
       "    <tr>\n",
       "      <td>mean</td>\n",
       "      <td>3.341651e+06</td>\n",
       "      <td>2008.0</td>\n",
       "      <td>6.111106e+00</td>\n",
       "      <td>1.575347e+01</td>\n",
       "      <td>3.984827e+00</td>\n",
       "      <td>1.518534e+03</td>\n",
       "      <td>1.467473e+03</td>\n",
       "      <td>1.610141e+03</td>\n",
       "      <td>1.634225e+03</td>\n",
       "      <td>2.184263e+03</td>\n",
       "      <td>...</td>\n",
       "      <td>7.656862e+02</td>\n",
       "      <td>6.812975e+00</td>\n",
       "      <td>1.823220e+01</td>\n",
       "      <td>3.268348e-04</td>\n",
       "      <td>4.003598e-03</td>\n",
       "      <td>1.917940e+01</td>\n",
       "      <td>3.703571e+00</td>\n",
       "      <td>1.502164e+01</td>\n",
       "      <td>9.013714e-02</td>\n",
       "      <td>2.529647e+01</td>\n",
       "    </tr>\n",
       "    <tr>\n",
       "      <td>std</td>\n",
       "      <td>2.066065e+06</td>\n",
       "      <td>0.0</td>\n",
       "      <td>3.482546e+00</td>\n",
       "      <td>8.776272e+00</td>\n",
       "      <td>1.995966e+00</td>\n",
       "      <td>4.504853e+02</td>\n",
       "      <td>4.247668e+02</td>\n",
       "      <td>5.481781e+02</td>\n",
       "      <td>4.646347e+02</td>\n",
       "      <td>1.944702e+03</td>\n",
       "      <td>...</td>\n",
       "      <td>5.744797e+02</td>\n",
       "      <td>5.273595e+00</td>\n",
       "      <td>1.433853e+01</td>\n",
       "      <td>1.807562e-02</td>\n",
       "      <td>6.314722e-02</td>\n",
       "      <td>4.354621e+01</td>\n",
       "      <td>2.149290e+01</td>\n",
       "      <td>3.383305e+01</td>\n",
       "      <td>2.022714e+00</td>\n",
       "      <td>4.205486e+01</td>\n",
       "    </tr>\n",
       "    <tr>\n",
       "      <td>min</td>\n",
       "      <td>0.000000e+00</td>\n",
       "      <td>2008.0</td>\n",
       "      <td>1.000000e+00</td>\n",
       "      <td>1.000000e+00</td>\n",
       "      <td>1.000000e+00</td>\n",
       "      <td>1.000000e+00</td>\n",
       "      <td>0.000000e+00</td>\n",
       "      <td>1.000000e+00</td>\n",
       "      <td>0.000000e+00</td>\n",
       "      <td>1.000000e+00</td>\n",
       "      <td>...</td>\n",
       "      <td>1.100000e+01</td>\n",
       "      <td>0.000000e+00</td>\n",
       "      <td>0.000000e+00</td>\n",
       "      <td>0.000000e+00</td>\n",
       "      <td>0.000000e+00</td>\n",
       "      <td>0.000000e+00</td>\n",
       "      <td>0.000000e+00</td>\n",
       "      <td>0.000000e+00</td>\n",
       "      <td>0.000000e+00</td>\n",
       "      <td>0.000000e+00</td>\n",
       "    </tr>\n",
       "    <tr>\n",
       "      <td>25%</td>\n",
       "      <td>1.517452e+06</td>\n",
       "      <td>2008.0</td>\n",
       "      <td>3.000000e+00</td>\n",
       "      <td>8.000000e+00</td>\n",
       "      <td>2.000000e+00</td>\n",
       "      <td>1.203000e+03</td>\n",
       "      <td>1.135000e+03</td>\n",
       "      <td>1.316000e+03</td>\n",
       "      <td>1.325000e+03</td>\n",
       "      <td>6.100000e+02</td>\n",
       "      <td>...</td>\n",
       "      <td>3.380000e+02</td>\n",
       "      <td>4.000000e+00</td>\n",
       "      <td>1.000000e+01</td>\n",
       "      <td>0.000000e+00</td>\n",
       "      <td>0.000000e+00</td>\n",
       "      <td>0.000000e+00</td>\n",
       "      <td>0.000000e+00</td>\n",
       "      <td>0.000000e+00</td>\n",
       "      <td>0.000000e+00</td>\n",
       "      <td>0.000000e+00</td>\n",
       "    </tr>\n",
       "    <tr>\n",
       "      <td>50%</td>\n",
       "      <td>3.242558e+06</td>\n",
       "      <td>2008.0</td>\n",
       "      <td>6.000000e+00</td>\n",
       "      <td>1.600000e+01</td>\n",
       "      <td>4.000000e+00</td>\n",
       "      <td>1.545000e+03</td>\n",
       "      <td>1.510000e+03</td>\n",
       "      <td>1.715000e+03</td>\n",
       "      <td>1.705000e+03</td>\n",
       "      <td>1.543000e+03</td>\n",
       "      <td>...</td>\n",
       "      <td>6.060000e+02</td>\n",
       "      <td>6.000000e+00</td>\n",
       "      <td>1.400000e+01</td>\n",
       "      <td>0.000000e+00</td>\n",
       "      <td>0.000000e+00</td>\n",
       "      <td>2.000000e+00</td>\n",
       "      <td>0.000000e+00</td>\n",
       "      <td>2.000000e+00</td>\n",
       "      <td>0.000000e+00</td>\n",
       "      <td>8.000000e+00</td>\n",
       "    </tr>\n",
       "    <tr>\n",
       "      <td>75%</td>\n",
       "      <td>4.972467e+06</td>\n",
       "      <td>2008.0</td>\n",
       "      <td>9.000000e+00</td>\n",
       "      <td>2.300000e+01</td>\n",
       "      <td>6.000000e+00</td>\n",
       "      <td>1.900000e+03</td>\n",
       "      <td>1.815000e+03</td>\n",
       "      <td>2.030000e+03</td>\n",
       "      <td>2.014000e+03</td>\n",
       "      <td>3.422000e+03</td>\n",
       "      <td>...</td>\n",
       "      <td>9.980000e+02</td>\n",
       "      <td>8.000000e+00</td>\n",
       "      <td>2.100000e+01</td>\n",
       "      <td>0.000000e+00</td>\n",
       "      <td>0.000000e+00</td>\n",
       "      <td>2.100000e+01</td>\n",
       "      <td>0.000000e+00</td>\n",
       "      <td>1.500000e+01</td>\n",
       "      <td>0.000000e+00</td>\n",
       "      <td>3.300000e+01</td>\n",
       "    </tr>\n",
       "    <tr>\n",
       "      <td>max</td>\n",
       "      <td>7.009727e+06</td>\n",
       "      <td>2008.0</td>\n",
       "      <td>1.200000e+01</td>\n",
       "      <td>3.100000e+01</td>\n",
       "      <td>7.000000e+00</td>\n",
       "      <td>2.400000e+03</td>\n",
       "      <td>2.359000e+03</td>\n",
       "      <td>2.400000e+03</td>\n",
       "      <td>2.400000e+03</td>\n",
       "      <td>9.742000e+03</td>\n",
       "      <td>...</td>\n",
       "      <td>4.962000e+03</td>\n",
       "      <td>2.400000e+02</td>\n",
       "      <td>4.220000e+02</td>\n",
       "      <td>1.000000e+00</td>\n",
       "      <td>1.000000e+00</td>\n",
       "      <td>2.436000e+03</td>\n",
       "      <td>1.352000e+03</td>\n",
       "      <td>1.357000e+03</td>\n",
       "      <td>3.920000e+02</td>\n",
       "      <td>1.316000e+03</td>\n",
       "    </tr>\n",
       "  </tbody>\n",
       "</table>\n",
       "<p>8 rows × 25 columns</p>\n",
       "</div>"
      ],
      "text/plain": [
       "         Unnamed: 0       Year         Month    DayofMonth     DayOfWeek  \\\n",
       "count  1.936758e+06  1936758.0  1.936758e+06  1.936758e+06  1.936758e+06   \n",
       "mean   3.341651e+06     2008.0  6.111106e+00  1.575347e+01  3.984827e+00   \n",
       "std    2.066065e+06        0.0  3.482546e+00  8.776272e+00  1.995966e+00   \n",
       "min    0.000000e+00     2008.0  1.000000e+00  1.000000e+00  1.000000e+00   \n",
       "25%    1.517452e+06     2008.0  3.000000e+00  8.000000e+00  2.000000e+00   \n",
       "50%    3.242558e+06     2008.0  6.000000e+00  1.600000e+01  4.000000e+00   \n",
       "75%    4.972467e+06     2008.0  9.000000e+00  2.300000e+01  6.000000e+00   \n",
       "max    7.009727e+06     2008.0  1.200000e+01  3.100000e+01  7.000000e+00   \n",
       "\n",
       "            DepTime    CRSDepTime       ArrTime    CRSArrTime     FlightNum  \\\n",
       "count  1.936758e+06  1.936758e+06  1.929648e+06  1.936758e+06  1.936758e+06   \n",
       "mean   1.518534e+03  1.467473e+03  1.610141e+03  1.634225e+03  2.184263e+03   \n",
       "std    4.504853e+02  4.247668e+02  5.481781e+02  4.646347e+02  1.944702e+03   \n",
       "min    1.000000e+00  0.000000e+00  1.000000e+00  0.000000e+00  1.000000e+00   \n",
       "25%    1.203000e+03  1.135000e+03  1.316000e+03  1.325000e+03  6.100000e+02   \n",
       "50%    1.545000e+03  1.510000e+03  1.715000e+03  1.705000e+03  1.543000e+03   \n",
       "75%    1.900000e+03  1.815000e+03  2.030000e+03  2.014000e+03  3.422000e+03   \n",
       "max    2.400000e+03  2.359000e+03  2.400000e+03  2.400000e+03  9.742000e+03   \n",
       "\n",
       "       ...      Distance        TaxiIn       TaxiOut     Cancelled  \\\n",
       "count  ...  1.936758e+06  1.929648e+06  1.936303e+06  1.936758e+06   \n",
       "mean   ...  7.656862e+02  6.812975e+00  1.823220e+01  3.268348e-04   \n",
       "std    ...  5.744797e+02  5.273595e+00  1.433853e+01  1.807562e-02   \n",
       "min    ...  1.100000e+01  0.000000e+00  0.000000e+00  0.000000e+00   \n",
       "25%    ...  3.380000e+02  4.000000e+00  1.000000e+01  0.000000e+00   \n",
       "50%    ...  6.060000e+02  6.000000e+00  1.400000e+01  0.000000e+00   \n",
       "75%    ...  9.980000e+02  8.000000e+00  2.100000e+01  0.000000e+00   \n",
       "max    ...  4.962000e+03  2.400000e+02  4.220000e+02  1.000000e+00   \n",
       "\n",
       "           Diverted  CarrierDelay  WeatherDelay      NASDelay  SecurityDelay  \\\n",
       "count  1.936758e+06  1.247488e+06  1.247488e+06  1.247488e+06   1.247488e+06   \n",
       "mean   4.003598e-03  1.917940e+01  3.703571e+00  1.502164e+01   9.013714e-02   \n",
       "std    6.314722e-02  4.354621e+01  2.149290e+01  3.383305e+01   2.022714e+00   \n",
       "min    0.000000e+00  0.000000e+00  0.000000e+00  0.000000e+00   0.000000e+00   \n",
       "25%    0.000000e+00  0.000000e+00  0.000000e+00  0.000000e+00   0.000000e+00   \n",
       "50%    0.000000e+00  2.000000e+00  0.000000e+00  2.000000e+00   0.000000e+00   \n",
       "75%    0.000000e+00  2.100000e+01  0.000000e+00  1.500000e+01   0.000000e+00   \n",
       "max    1.000000e+00  2.436000e+03  1.352000e+03  1.357000e+03   3.920000e+02   \n",
       "\n",
       "       LateAircraftDelay  \n",
       "count       1.247488e+06  \n",
       "mean        2.529647e+01  \n",
       "std         4.205486e+01  \n",
       "min         0.000000e+00  \n",
       "25%         0.000000e+00  \n",
       "50%         8.000000e+00  \n",
       "75%         3.300000e+01  \n",
       "max         1.316000e+03  \n",
       "\n",
       "[8 rows x 25 columns]"
      ]
     },
     "execution_count": 3,
     "metadata": {},
     "output_type": "execute_result"
    }
   ],
   "source": [
    "df.describe()"
   ]
  },
  {
   "cell_type": "markdown",
   "metadata": {},
   "source": [
    "Exploratory data analysis. Describe method brings us count, mean, median vs. values of the dataset."
   ]
  },
  {
   "cell_type": "code",
   "execution_count": 4,
   "metadata": {},
   "outputs": [
    {
     "data": {
      "text/plain": [
       "(1936758, 30)"
      ]
     },
     "execution_count": 4,
     "metadata": {},
     "output_type": "execute_result"
    }
   ],
   "source": [
    "df.shape"
   ]
  },
  {
   "cell_type": "markdown",
   "metadata": {},
   "source": [
    "Here is the number of rows and columns."
   ]
  },
  {
   "cell_type": "code",
   "execution_count": 5,
   "metadata": {},
   "outputs": [
    {
     "name": "stdout",
     "output_type": "stream",
     "text": [
      "<class 'pandas.core.frame.DataFrame'>\n",
      "RangeIndex: 1936758 entries, 0 to 1936757\n",
      "Data columns (total 30 columns):\n",
      "Unnamed: 0           int64\n",
      "Year                 int64\n",
      "Month                int64\n",
      "DayofMonth           int64\n",
      "DayOfWeek            int64\n",
      "DepTime              float64\n",
      "CRSDepTime           int64\n",
      "ArrTime              float64\n",
      "CRSArrTime           int64\n",
      "UniqueCarrier        object\n",
      "FlightNum            int64\n",
      "TailNum              object\n",
      "ActualElapsedTime    float64\n",
      "CRSElapsedTime       float64\n",
      "AirTime              float64\n",
      "ArrDelay             float64\n",
      "DepDelay             float64\n",
      "Origin               object\n",
      "Dest                 object\n",
      "Distance             int64\n",
      "TaxiIn               float64\n",
      "TaxiOut              float64\n",
      "Cancelled            int64\n",
      "CancellationCode     object\n",
      "Diverted             int64\n",
      "CarrierDelay         float64\n",
      "WeatherDelay         float64\n",
      "NASDelay             float64\n",
      "SecurityDelay        float64\n",
      "LateAircraftDelay    float64\n",
      "dtypes: float64(14), int64(11), object(5)\n",
      "memory usage: 443.3+ MB\n"
     ]
    }
   ],
   "source": [
    "df.info()"
   ]
  },
  {
   "cell_type": "markdown",
   "metadata": {},
   "source": [
    "Exploratory data analysis. Different data types in the dataset by columns."
   ]
  },
  {
   "cell_type": "code",
   "execution_count": 6,
   "metadata": {},
   "outputs": [],
   "source": [
    "Le_UniqueCarrier=LabelEncoder()\n",
    "Le_Origin=LabelEncoder()\n",
    "Le_Dest=LabelEncoder()\n",
    "Le_CancellationCode=LabelEncoder()"
   ]
  },
  {
   "cell_type": "markdown",
   "metadata": {},
   "source": [
    "We have already detected the object type columns and now we convert those object-type columns into numerical values. Since machine learning algorithms cannot deal with strings."
   ]
  },
  {
   "cell_type": "code",
   "execution_count": 7,
   "metadata": {},
   "outputs": [],
   "source": [
    "df['UniqueCarrier_n'] = Le_UniqueCarrier.fit_transform(df['UniqueCarrier'])\n",
    "df['Origin_n'] = Le_Origin.fit_transform(df['Origin'])\n",
    "df['Dest_n'] = Le_Dest.fit_transform(df['Dest'])\n",
    "df['CancellationCode_n'] = Le_CancellationCode.fit_transform(df['CancellationCode'])"
   ]
  },
  {
   "cell_type": "markdown",
   "metadata": {},
   "source": [
    "Object-type columns are converted into numerical type columns. New numerical columns are inserted into our dataset."
   ]
  },
  {
   "cell_type": "code",
   "execution_count": 8,
   "metadata": {},
   "outputs": [
    {
     "data": {
      "text/plain": [
       "(1936758, 34)"
      ]
     },
     "execution_count": 8,
     "metadata": {},
     "output_type": "execute_result"
    }
   ],
   "source": [
    "df.shape"
   ]
  },
  {
   "cell_type": "markdown",
   "metadata": {},
   "source": [
    "4 brand new columns are added. "
   ]
  },
  {
   "cell_type": "code",
   "execution_count": 9,
   "metadata": {},
   "outputs": [],
   "source": [
    "df.drop(['UniqueCarrier', 'Origin', 'Dest', 'CancellationCode', 'TailNum', 'Unnamed: 0'], axis = 1, inplace=True)"
   ]
  },
  {
   "cell_type": "markdown",
   "metadata": {},
   "source": [
    "4 Object-type columns, 1 extra index column and 1 other irrelevant (tail number) column are dropped."
   ]
  },
  {
   "cell_type": "code",
   "execution_count": 10,
   "metadata": {},
   "outputs": [
    {
     "data": {
      "text/plain": [
       "(1936758, 28)"
      ]
     },
     "execution_count": 10,
     "metadata": {},
     "output_type": "execute_result"
    }
   ],
   "source": [
    "df.shape"
   ]
  },
  {
   "cell_type": "markdown",
   "metadata": {},
   "source": [
    "The number of columns and rows are checked to see if adding and dropping are successful. So far so good."
   ]
  },
  {
   "cell_type": "code",
   "execution_count": 11,
   "metadata": {},
   "outputs": [
    {
     "name": "stdout",
     "output_type": "stream",
     "text": [
      "<class 'pandas.core.frame.DataFrame'>\n",
      "RangeIndex: 1936758 entries, 0 to 1936757\n",
      "Data columns (total 28 columns):\n",
      "Year                  int64\n",
      "Month                 int64\n",
      "DayofMonth            int64\n",
      "DayOfWeek             int64\n",
      "DepTime               float64\n",
      "CRSDepTime            int64\n",
      "ArrTime               float64\n",
      "CRSArrTime            int64\n",
      "FlightNum             int64\n",
      "ActualElapsedTime     float64\n",
      "CRSElapsedTime        float64\n",
      "AirTime               float64\n",
      "ArrDelay              float64\n",
      "DepDelay              float64\n",
      "Distance              int64\n",
      "TaxiIn                float64\n",
      "TaxiOut               float64\n",
      "Cancelled             int64\n",
      "Diverted              int64\n",
      "CarrierDelay          float64\n",
      "WeatherDelay          float64\n",
      "NASDelay              float64\n",
      "SecurityDelay         float64\n",
      "LateAircraftDelay     float64\n",
      "UniqueCarrier_n       int64\n",
      "Origin_n              int64\n",
      "Dest_n                int64\n",
      "CancellationCode_n    int64\n",
      "dtypes: float64(14), int64(14)\n",
      "memory usage: 413.7 MB\n"
     ]
    }
   ],
   "source": [
    "df.info()"
   ]
  },
  {
   "cell_type": "markdown",
   "metadata": {},
   "source": [
    "The data type of each column is checked."
   ]
  },
  {
   "cell_type": "code",
   "execution_count": 12,
   "metadata": {},
   "outputs": [
    {
     "data": {
      "text/plain": [
       "Year                       0\n",
       "Month                      0\n",
       "DayofMonth                 0\n",
       "DayOfWeek                  0\n",
       "DepTime                    0\n",
       "CRSDepTime                 0\n",
       "ArrTime                 7110\n",
       "CRSArrTime                 0\n",
       "FlightNum                  0\n",
       "ActualElapsedTime       8387\n",
       "CRSElapsedTime           198\n",
       "AirTime                 8387\n",
       "ArrDelay                8387\n",
       "DepDelay                   0\n",
       "Distance                   0\n",
       "TaxiIn                  7110\n",
       "TaxiOut                  455\n",
       "Cancelled                  0\n",
       "Diverted                   0\n",
       "CarrierDelay          689270\n",
       "WeatherDelay          689270\n",
       "NASDelay              689270\n",
       "SecurityDelay         689270\n",
       "LateAircraftDelay     689270\n",
       "UniqueCarrier_n            0\n",
       "Origin_n                   0\n",
       "Dest_n                     0\n",
       "CancellationCode_n         0\n",
       "dtype: int64"
      ]
     },
     "execution_count": 12,
     "metadata": {},
     "output_type": "execute_result"
    }
   ],
   "source": [
    "df.isnull().sum()"
   ]
  },
  {
   "cell_type": "markdown",
   "metadata": {},
   "source": [
    "Null values are checked."
   ]
  },
  {
   "cell_type": "code",
   "execution_count": 13,
   "metadata": {},
   "outputs": [],
   "source": [
    "df.dropna(axis=0, how='any', inplace=True)"
   ]
  },
  {
   "cell_type": "markdown",
   "metadata": {},
   "source": [
    "Rows that have null values are dropped."
   ]
  },
  {
   "cell_type": "code",
   "execution_count": 14,
   "metadata": {},
   "outputs": [
    {
     "data": {
      "text/plain": [
       "Year                  0\n",
       "Month                 0\n",
       "DayofMonth            0\n",
       "DayOfWeek             0\n",
       "DepTime               0\n",
       "CRSDepTime            0\n",
       "ArrTime               0\n",
       "CRSArrTime            0\n",
       "FlightNum             0\n",
       "ActualElapsedTime     0\n",
       "CRSElapsedTime        0\n",
       "AirTime               0\n",
       "ArrDelay              0\n",
       "DepDelay              0\n",
       "Distance              0\n",
       "TaxiIn                0\n",
       "TaxiOut               0\n",
       "Cancelled             0\n",
       "Diverted              0\n",
       "CarrierDelay          0\n",
       "WeatherDelay          0\n",
       "NASDelay              0\n",
       "SecurityDelay         0\n",
       "LateAircraftDelay     0\n",
       "UniqueCarrier_n       0\n",
       "Origin_n              0\n",
       "Dest_n                0\n",
       "CancellationCode_n    0\n",
       "dtype: int64"
      ]
     },
     "execution_count": 14,
     "metadata": {},
     "output_type": "execute_result"
    }
   ],
   "source": [
    "df.isnull().sum()"
   ]
  },
  {
   "cell_type": "markdown",
   "metadata": {},
   "source": [
    "No more null values!"
   ]
  },
  {
   "cell_type": "code",
   "execution_count": 15,
   "metadata": {},
   "outputs": [],
   "source": [
    "df.reset_index(drop=True, inplace=True)"
   ]
  },
  {
   "cell_type": "markdown",
   "metadata": {},
   "source": [
    "We reset index to tidy up our data set."
   ]
  },
  {
   "cell_type": "code",
   "execution_count": 16,
   "metadata": {},
   "outputs": [
    {
     "name": "stdout",
     "output_type": "stream",
     "text": [
      "<class 'pandas.core.frame.DataFrame'>\n",
      "RangeIndex: 1247488 entries, 0 to 1247487\n",
      "Data columns (total 28 columns):\n",
      "Year                  1247488 non-null int64\n",
      "Month                 1247488 non-null int64\n",
      "DayofMonth            1247488 non-null int64\n",
      "DayOfWeek             1247488 non-null int64\n",
      "DepTime               1247488 non-null float64\n",
      "CRSDepTime            1247488 non-null int64\n",
      "ArrTime               1247488 non-null float64\n",
      "CRSArrTime            1247488 non-null int64\n",
      "FlightNum             1247488 non-null int64\n",
      "ActualElapsedTime     1247488 non-null float64\n",
      "CRSElapsedTime        1247488 non-null float64\n",
      "AirTime               1247488 non-null float64\n",
      "ArrDelay              1247488 non-null float64\n",
      "DepDelay              1247488 non-null float64\n",
      "Distance              1247488 non-null int64\n",
      "TaxiIn                1247488 non-null float64\n",
      "TaxiOut               1247488 non-null float64\n",
      "Cancelled             1247488 non-null int64\n",
      "Diverted              1247488 non-null int64\n",
      "CarrierDelay          1247488 non-null float64\n",
      "WeatherDelay          1247488 non-null float64\n",
      "NASDelay              1247488 non-null float64\n",
      "SecurityDelay         1247488 non-null float64\n",
      "LateAircraftDelay     1247488 non-null float64\n",
      "UniqueCarrier_n       1247488 non-null int64\n",
      "Origin_n              1247488 non-null int64\n",
      "Dest_n                1247488 non-null int64\n",
      "CancellationCode_n    1247488 non-null int64\n",
      "dtypes: float64(14), int64(14)\n",
      "memory usage: 266.5 MB\n"
     ]
    }
   ],
   "source": [
    "df.info()"
   ]
  },
  {
   "cell_type": "markdown",
   "metadata": {},
   "source": [
    "Dataset is controlled for last time and now we are ready to train our model."
   ]
  },
  {
   "cell_type": "code",
   "execution_count": 17,
   "metadata": {},
   "outputs": [],
   "source": [
    "y=df.loc[:, 'DepDelay']"
   ]
  },
  {
   "cell_type": "markdown",
   "metadata": {},
   "source": [
    "Target variable is set."
   ]
  },
  {
   "cell_type": "code",
   "execution_count": 18,
   "metadata": {},
   "outputs": [],
   "source": [
    "X=df.loc[:, df.columns != 'DepDelay']"
   ]
  },
  {
   "cell_type": "markdown",
   "metadata": {},
   "source": [
    "The rest of the columns will be used as predictors."
   ]
  },
  {
   "cell_type": "code",
   "execution_count": 19,
   "metadata": {},
   "outputs": [],
   "source": [
    "X_train, X_test, y_train, y_test= train_test_split(X,y, test_size=0.2, random_state=12)"
   ]
  },
  {
   "cell_type": "markdown",
   "metadata": {},
   "source": [
    "Train and test data are splitted. random_state is used to get same result if code is implemented later again. "
   ]
  },
  {
   "cell_type": "code",
   "execution_count": 20,
   "metadata": {},
   "outputs": [],
   "source": [
    "param_grid={\"n_estimators\":randint(1,9),\n",
    "            \"max_depth\": (2,7),\n",
    "           \"max_features\": randint(1,9),\n",
    "           \"min_samples_leaf\": randint(1,9)}"
   ]
  },
  {
   "cell_type": "markdown",
   "metadata": {},
   "source": [
    "Hyperparameter tuning method is decided to choose parameters such as max_depth, n_estimators, max_features, and min_sample_leaf. "
   ]
  },
  {
   "cell_type": "code",
   "execution_count": 21,
   "metadata": {},
   "outputs": [],
   "source": [
    "RFReg=RandomForestRegressor(n_jobs=-1, random_state=42)"
   ]
  },
  {
   "cell_type": "markdown",
   "metadata": {},
   "source": [
    "RandomForestRegressor method is used. n_job=-1 helps computer to use full capacity CPU. random_state is again for later implementations of the same code."
   ]
  },
  {
   "cell_type": "code",
   "execution_count": 22,
   "metadata": {},
   "outputs": [],
   "source": [
    "RFReg_cv= RandomizedSearchCV(RFReg, param_grid, cv=5)"
   ]
  },
  {
   "cell_type": "markdown",
   "metadata": {},
   "source": [
    "I decided to use RandomizedSearchCV rather than plain hyper parameter tuning (GridSearchCV) to make parameter choosing process shorter."
   ]
  },
  {
   "cell_type": "code",
   "execution_count": 23,
   "metadata": {},
   "outputs": [
    {
     "data": {
      "text/plain": [
       "RandomizedSearchCV(cv=5, error_score='raise-deprecating',\n",
       "                   estimator=RandomForestRegressor(bootstrap=True,\n",
       "                                                   criterion='mse',\n",
       "                                                   max_depth=None,\n",
       "                                                   max_features='auto',\n",
       "                                                   max_leaf_nodes=None,\n",
       "                                                   min_impurity_decrease=0.0,\n",
       "                                                   min_impurity_split=None,\n",
       "                                                   min_samples_leaf=1,\n",
       "                                                   min_samples_split=2,\n",
       "                                                   min_weight_fraction_leaf=0.0,\n",
       "                                                   n_estimators='warn',\n",
       "                                                   n_jobs=-1, oob_score=False,\n",
       "                                                   random_state...\n",
       "                                        'max_features': <scipy.stats._distn_infrastructure.rv_frozen object at 0x7f73676bbfd0>,\n",
       "                                        'min_samples_leaf': <scipy.stats._distn_infrastructure.rv_frozen object at 0x7f73669baed0>,\n",
       "                                        'n_estimators': <scipy.stats._distn_infrastructure.rv_frozen object at 0x7f73669ba5d0>},\n",
       "                   pre_dispatch='2*n_jobs', random_state=None, refit=True,\n",
       "                   return_train_score=False, scoring=None, verbose=0)"
      ]
     },
     "execution_count": 23,
     "metadata": {},
     "output_type": "execute_result"
    }
   ],
   "source": [
    "RFReg_cv.fit(X_train, y_train)"
   ]
  },
  {
   "cell_type": "markdown",
   "metadata": {},
   "source": [
    "Training is implemented."
   ]
  },
  {
   "cell_type": "code",
   "execution_count": 24,
   "metadata": {},
   "outputs": [
    {
     "data": {
      "text/plain": [
       "{'max_depth': 7, 'max_features': 6, 'min_samples_leaf': 7, 'n_estimators': 5}"
      ]
     },
     "execution_count": 24,
     "metadata": {},
     "output_type": "execute_result"
    }
   ],
   "source": [
    "RFReg_cv.best_params_"
   ]
  },
  {
   "cell_type": "markdown",
   "metadata": {},
   "source": [
    "These parameters are chosen by the algorithm as the most optimized ones."
   ]
  },
  {
   "cell_type": "code",
   "execution_count": 25,
   "metadata": {},
   "outputs": [],
   "source": [
    "y_pred=RFReg_cv.predict(X_test)"
   ]
  },
  {
   "cell_type": "markdown",
   "metadata": {},
   "source": [
    "Prediction is implemented on the test data."
   ]
  },
  {
   "cell_type": "code",
   "execution_count": 26,
   "metadata": {},
   "outputs": [
    {
     "data": {
      "text/plain": [
       "337.56074148431287"
      ]
     },
     "execution_count": 26,
     "metadata": {},
     "output_type": "execute_result"
    }
   ],
   "source": [
    "mean_squared_error(y_test, y_pred)"
   ]
  },
  {
   "cell_type": "markdown",
   "metadata": {},
   "source": [
    "Calculation of MSE."
   ]
  },
  {
   "cell_type": "code",
   "execution_count": 27,
   "metadata": {},
   "outputs": [],
   "source": [
    "rmse=mean_squared_error(y_test, y_pred)**0.5"
   ]
  },
  {
   "cell_type": "markdown",
   "metadata": {},
   "source": [
    "Calculation of avarage value error."
   ]
  },
  {
   "cell_type": "code",
   "execution_count": 28,
   "metadata": {},
   "outputs": [
    {
     "data": {
      "text/plain": [
       "18.372826170306865"
      ]
     },
     "execution_count": 28,
     "metadata": {},
     "output_type": "execute_result"
    }
   ],
   "source": [
    "rmse"
   ]
  },
  {
   "cell_type": "markdown",
   "metadata": {},
   "source": [
    "It is pretty close to the value that I found by implementing linear regression, yet slightly worse than that.  "
   ]
  },
  {
   "cell_type": "code",
   "execution_count": 29,
   "metadata": {},
   "outputs": [
    {
     "data": {
      "text/plain": [
       "0.9052527483794639"
      ]
     },
     "execution_count": 29,
     "metadata": {},
     "output_type": "execute_result"
    }
   ],
   "source": [
    "RFReg_cv.score(X_test, y_test)"
   ]
  },
  {
   "cell_type": "markdown",
   "metadata": {},
   "source": [
    "Calculation of R2"
   ]
  }
 ],
 "metadata": {
  "kernelspec": {
   "display_name": "Python 3",
   "language": "python",
   "name": "python3"
  },
  "language_info": {
   "codemirror_mode": {
    "name": "ipython",
    "version": 3
   },
   "file_extension": ".py",
   "mimetype": "text/x-python",
   "name": "python",
   "nbconvert_exporter": "python",
   "pygments_lexer": "ipython3",
   "version": "3.7.4"
  }
 },
 "nbformat": 4,
 "nbformat_minor": 2
}
